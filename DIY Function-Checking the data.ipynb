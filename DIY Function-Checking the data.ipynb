{
 "cells": [
  {
   "cell_type": "markdown",
   "id": "c6514747-413b-4cbf-82fe-ed70c271be32",
   "metadata": {},
   "source": [
    "isalpha() Returns True if all characters in the string are in the alphabet\n",
    "\n",
    "isdigit() Returns True if all characters in the string are digits\n",
    "\n",
    "isalnum() Returns True if all characters in the string are alphanumeric"
   ]
  },
  {
   "cell_type": "markdown",
   "id": "5c8d4aa2-33a3-43b6-b2d1-bc242887513b",
   "metadata": {},
   "source": [
    "### 1. isalpha()"
   ]
  },
  {
   "cell_type": "code",
   "execution_count": 5,
   "id": "7d8f53d2-1ce2-41a0-963d-fff552be0559",
   "metadata": {},
   "outputs": [
    {
     "name": "stdout",
     "output_type": "stream",
     "text": [
      "False\n",
      "False\n"
     ]
    }
   ],
   "source": [
    "def isalpha(text):\n",
    "    c = 0\n",
    "    for i in text:\n",
    "        if ((ord(i) >= 65 and ord(i) <= 90) or (ord(i) >= 97 and ord(i) <= 122)):   # (65-90) Upper | (97 - 122) Lower\n",
    "            c += 1\n",
    "    if (len(text) == c):\n",
    "        return True\n",
    "    else:\n",
    "        return False\n",
    "    \n",
    "print('Ashish Jangra'.isalpha())\n",
    "print(isalpha('Ashish Jangra'))"
   ]
  },
  {
   "cell_type": "markdown",
   "id": "cc2c8aa5-864a-4fd4-9eae-72cd65394792",
   "metadata": {},
   "source": [
    "### 2. isdigit()"
   ]
  },
  {
   "cell_type": "code",
   "execution_count": 8,
   "id": "dd942e20-c37d-4d2d-8896-58edc0f24f56",
   "metadata": {},
   "outputs": [
    {
     "name": "stdout",
     "output_type": "stream",
     "text": [
      "True\n",
      "True\n"
     ]
    }
   ],
   "source": [
    "def isdigit(text):\n",
    "    c = 0\n",
    "    for i in text:\n",
    "        if (ord(i) >= 48 and ord(i) <= 57):              # (48-57) Digits | 0-9\n",
    "            c += 1\n",
    "            \n",
    "    if (len(text) == c):\n",
    "        return True\n",
    "    else:\n",
    "        return False\n",
    "    \n",
    "print('1231'.isdigit())\n",
    "print(isdigit('1231'))"
   ]
  },
  {
   "cell_type": "markdown",
   "id": "6f99e5f3-9357-49cd-bd14-9bb4ed26b93f",
   "metadata": {},
   "source": [
    "### 3. isalnum()"
   ]
  },
  {
   "cell_type": "code",
   "execution_count": 11,
   "id": "0e9851c7-3643-49b0-8563-d230cb8922c1",
   "metadata": {},
   "outputs": [
    {
     "name": "stdout",
     "output_type": "stream",
     "text": [
      "True\n",
      "True\n"
     ]
    }
   ],
   "source": [
    "def isalnum(text):\n",
    "    c = 0\n",
    "    for i in text:\n",
    "        if ((ord(i)>=65 and ord(i)<=90) or (ord(i)>=97 and ord(i)<=122) or (ord(i)>=48 and ord(i)<=57)):\n",
    "            c += 1\n",
    "    if (len(text) == c):\n",
    "        return True\n",
    "    else:\n",
    "        return False\n",
    "    \n",
    "print('AshishJangra7'.isalnum())\n",
    "print(isalnum('AshishJangra7'))"
   ]
  }
 ],
 "metadata": {
  "kernelspec": {
   "display_name": "Python 3 (ipykernel)",
   "language": "python",
   "name": "python3"
  },
  "language_info": {
   "codemirror_mode": {
    "name": "ipython",
    "version": 3
   },
   "file_extension": ".py",
   "mimetype": "text/x-python",
   "name": "python",
   "nbconvert_exporter": "python",
   "pygments_lexer": "ipython3",
   "version": "3.12.4"
  }
 },
 "nbformat": 4,
 "nbformat_minor": 5
}
