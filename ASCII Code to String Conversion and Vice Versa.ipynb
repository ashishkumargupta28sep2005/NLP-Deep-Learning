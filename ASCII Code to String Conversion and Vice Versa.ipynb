{
 "cells": [
  {
   "cell_type": "code",
   "execution_count": 2,
   "id": "bcf9c834-c113-4189-8dec-d527237610a9",
   "metadata": {},
   "outputs": [],
   "source": [
    "text='Hey this is a ashish kumar gupta'"
   ]
  },
  {
   "cell_type": "markdown",
   "id": "ff2adff2-6c4b-4834-8460-6ed1ed19386a",
   "metadata": {},
   "source": [
    "### 1.string to ASCII Conversion"
   ]
  },
  {
   "cell_type": "code",
   "execution_count": 5,
   "id": "e0b14e13-008a-4f40-a187-20f2a81b15fa",
   "metadata": {},
   "outputs": [],
   "source": [
    "ascii_ = [ord(char) for char in text]"
   ]
  },
  {
   "cell_type": "markdown",
   "id": "7ec4a4d7-24d7-48b7-a68d-fd2f98b5383f",
   "metadata": {},
   "source": [
    "### ASCII to string Conversion"
   ]
  },
  {
   "cell_type": "code",
   "execution_count": 8,
   "id": "ec634221-0b4a-4162-bf86-37d0d039db30",
   "metadata": {},
   "outputs": [
    {
     "data": {
      "text/plain": [
       "'Hey this is a ashish kumar gupta'"
      ]
     },
     "execution_count": 8,
     "metadata": {},
     "output_type": "execute_result"
    }
   ],
   "source": [
    "''.join([chr(asc) for asc in ascii_])"
   ]
  },
  {
   "cell_type": "code",
   "execution_count": 12,
   "id": "7d387167-4cc4-4aa1-b25a-43739bb768f2",
   "metadata": {},
   "outputs": [
    {
     "data": {
      "text/plain": [
       "32"
      ]
     },
     "execution_count": 12,
     "metadata": {},
     "output_type": "execute_result"
    }
   ],
   "source": [
    "ord(' ')"
   ]
  },
  {
   "cell_type": "code",
   "execution_count": 14,
   "id": "e8ba25d3-1271-4813-8b96-456061435fe7",
   "metadata": {},
   "outputs": [
    {
     "data": {
      "text/plain": [
       "' '"
      ]
     },
     "execution_count": 14,
     "metadata": {},
     "output_type": "execute_result"
    }
   ],
   "source": [
    "chr(32)"
   ]
  },
  {
   "cell_type": "code",
   "execution_count": 22,
   "id": "a797c09a-1451-4b51-8ef0-1428f85c93f9",
   "metadata": {},
   "outputs": [
    {
     "data": {
      "text/plain": [
       "'god yzal eht revo spmuj xof nworb kciuq ehT'"
      ]
     },
     "execution_count": 22,
     "metadata": {},
     "output_type": "execute_result"
    }
   ],
   "source": [
    "\n",
    "'The quick brown fox jumps over the lazy dog'[::-1]"
   ]
  },
  {
   "cell_type": "code",
   "execution_count": 24,
   "id": "27990897-4748-4e96-9539-aadd675a0aba",
   "metadata": {},
   "outputs": [
    {
     "data": {
      "text/plain": [
       "'The quick brown fox jumps over the lazy dog'"
      ]
     },
     "execution_count": 24,
     "metadata": {},
     "output_type": "execute_result"
    }
   ],
   "source": [
    "'The quick brown fox jumps over the lazy dog'"
   ]
  },
  {
   "cell_type": "code",
   "execution_count": null,
   "id": "2b44d872-97c6-4b3e-948c-bde33b9dd87d",
   "metadata": {},
   "outputs": [],
   "source": []
  },
  {
   "cell_type": "code",
   "execution_count": null,
   "id": "dbc7055f-c787-41b3-9753-f2929e66917f",
   "metadata": {},
   "outputs": [],
   "source": []
  },
  {
   "cell_type": "code",
   "execution_count": null,
   "id": "70f168df-9ba2-499c-8d69-d49cf9e2f080",
   "metadata": {},
   "outputs": [],
   "source": []
  },
  {
   "cell_type": "code",
   "execution_count": null,
   "id": "76c65469-f20d-4026-8553-dd02e92886d5",
   "metadata": {},
   "outputs": [],
   "source": []
  },
  {
   "cell_type": "code",
   "execution_count": null,
   "id": "bc9ba4eb-d24b-4f6f-a1a6-9cbd5be2d00f",
   "metadata": {},
   "outputs": [],
   "source": []
  }
 ],
 "metadata": {
  "kernelspec": {
   "display_name": "Python 3 (ipykernel)",
   "language": "python",
   "name": "python3"
  },
  "language_info": {
   "codemirror_mode": {
    "name": "ipython",
    "version": 3
   },
   "file_extension": ".py",
   "mimetype": "text/x-python",
   "name": "python",
   "nbconvert_exporter": "python",
   "pygments_lexer": "ipython3",
   "version": "3.12.4"
  }
 },
 "nbformat": 4,
 "nbformat_minor": 5
}
