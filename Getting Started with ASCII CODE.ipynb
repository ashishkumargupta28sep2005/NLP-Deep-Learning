{
 "cells": [
  {
   "cell_type": "code",
   "execution_count": 1,
   "id": "b0308744-4041-43b6-8a08-59f5c22272a5",
   "metadata": {},
   "outputs": [
    {
     "data": {
      "text/plain": [
       "'A'"
      ]
     },
     "execution_count": 1,
     "metadata": {},
     "output_type": "execute_result"
    }
   ],
   "source": [
    "'A'"
   ]
  },
  {
   "cell_type": "code",
   "execution_count": 3,
   "id": "d9103de5-2a2d-4802-93ec-127fd9772db0",
   "metadata": {},
   "outputs": [
    {
     "name": "stdout",
     "output_type": "stream",
     "text": [
      "1\n"
     ]
    }
   ],
   "source": [
    "print('1')"
   ]
  },
  {
   "cell_type": "code",
   "execution_count": 5,
   "id": "dcb564d7-e657-4b2e-9c51-67aaeaa26650",
   "metadata": {},
   "outputs": [
    {
     "data": {
      "text/plain": [
       "49"
      ]
     },
     "execution_count": 5,
     "metadata": {},
     "output_type": "execute_result"
    }
   ],
   "source": [
    "ord('1')"
   ]
  },
  {
   "cell_type": "code",
   "execution_count": 9,
   "id": "acfe29eb-0fb3-44c1-86bc-22dba3684a94",
   "metadata": {},
   "outputs": [
    {
     "data": {
      "text/plain": [
       "65"
      ]
     },
     "execution_count": 9,
     "metadata": {},
     "output_type": "execute_result"
    }
   ],
   "source": [
    "ord('A')"
   ]
  },
  {
   "cell_type": "code",
   "execution_count": 7,
   "id": "7e3626a3-5d48-4447-9f6c-213a5cf20410",
   "metadata": {},
   "outputs": [
    {
     "data": {
      "text/plain": [
       "97"
      ]
     },
     "execution_count": 7,
     "metadata": {},
     "output_type": "execute_result"
    }
   ],
   "source": [
    "ord('a')"
   ]
  },
  {
   "cell_type": "code",
   "execution_count": 11,
   "id": "cec78805-0aa5-4b90-8d0d-5b1065c2085f",
   "metadata": {},
   "outputs": [
    {
     "data": {
      "text/plain": [
       "59"
      ]
     },
     "execution_count": 11,
     "metadata": {},
     "output_type": "execute_result"
    }
   ],
   "source": [
    "ord(';')"
   ]
  },
  {
   "cell_type": "code",
   "execution_count": 13,
   "id": "0fa1f7df-95fb-4872-acc1-a43243975640",
   "metadata": {},
   "outputs": [
    {
     "data": {
      "text/plain": [
       "125"
      ]
     },
     "execution_count": 13,
     "metadata": {},
     "output_type": "execute_result"
    }
   ],
   "source": [
    "ord('}')"
   ]
  },
  {
   "cell_type": "code",
   "execution_count": 15,
   "id": "ac859926-e72d-4751-80f5-bf621020cd04",
   "metadata": {},
   "outputs": [],
   "source": [
    "name='Ashish Gupta'"
   ]
  },
  {
   "cell_type": "code",
   "execution_count": 21,
   "id": "cbb0b024-ec85-47ab-be15-f23355688fb3",
   "metadata": {},
   "outputs": [
    {
     "name": "stdout",
     "output_type": "stream",
     "text": [
      "A 65\n",
      "s 115\n",
      "h 104\n",
      "i 105\n",
      "s 115\n",
      "h 104\n",
      "  32\n",
      "G 71\n",
      "u 117\n",
      "p 112\n",
      "t 116\n",
      "a 97\n"
     ]
    }
   ],
   "source": [
    "for char in name:\n",
    "    print(char,ord(char))"
   ]
  },
  {
   "cell_type": "code",
   "execution_count": null,
   "id": "23aa0561-d3fc-489d-9c25-01107ab55b70",
   "metadata": {},
   "outputs": [],
   "source": []
  }
 ],
 "metadata": {
  "kernelspec": {
   "display_name": "Python 3 (ipykernel)",
   "language": "python",
   "name": "python3"
  },
  "language_info": {
   "codemirror_mode": {
    "name": "ipython",
    "version": 3
   },
   "file_extension": ".py",
   "mimetype": "text/x-python",
   "name": "python",
   "nbconvert_exporter": "python",
   "pygments_lexer": "ipython3",
   "version": "3.12.4"
  }
 },
 "nbformat": 4,
 "nbformat_minor": 5
}
