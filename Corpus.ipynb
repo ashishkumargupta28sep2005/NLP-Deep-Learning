{
 "cells": [
  {
   "cell_type": "code",
   "execution_count": 66,
   "id": "8ea6982e-cc6c-4b0d-adf0-78b5f04d4566",
   "metadata": {},
   "outputs": [],
   "source": [
    "from nltk.tokenize import word_tokenize,sent_tokenize\n",
    "from nltk.corpus import stopwords\n",
    "\n",
    "corpus='ccording to Wikipedia, yes, India is a republic, with its constitution coming into effect on January 26, 1950, officially establishing the country as a sovereign democratic republic; meaning the head of state is a President, not a monarch, as was the case during British rule. '"
   ]
  },
  {
   "cell_type": "code",
   "execution_count": null,
   "id": "6f8c9a29-8111-474a-b1a1-9f56aa60f84d",
   "metadata": {},
   "outputs": [],
   "source": []
  },
  {
   "cell_type": "code",
   "execution_count": 5,
   "id": "ad4213cc-ed82-4174-a01d-9965b0435d42",
   "metadata": {},
   "outputs": [
    {
     "data": {
      "text/plain": [
       "['ccording',\n",
       " 'to',\n",
       " 'Wikipedia',\n",
       " ',',\n",
       " 'yes',\n",
       " ',',\n",
       " 'India',\n",
       " 'is',\n",
       " 'a',\n",
       " 'republic',\n",
       " ',',\n",
       " 'with',\n",
       " 'its',\n",
       " 'constitution',\n",
       " 'coming',\n",
       " 'into',\n",
       " 'effect',\n",
       " 'on',\n",
       " 'January',\n",
       " '26',\n",
       " ',',\n",
       " '1950',\n",
       " ',',\n",
       " 'officially',\n",
       " 'establishing',\n",
       " 'the',\n",
       " 'country',\n",
       " 'as',\n",
       " 'a',\n",
       " 'sovereign',\n",
       " 'democratic',\n",
       " 'republic',\n",
       " ';',\n",
       " 'meaning',\n",
       " 'the',\n",
       " 'head',\n",
       " 'of',\n",
       " 'state',\n",
       " 'is',\n",
       " 'a',\n",
       " 'President',\n",
       " ',',\n",
       " 'not',\n",
       " 'a',\n",
       " 'monarch',\n",
       " ',',\n",
       " 'as',\n",
       " 'was',\n",
       " 'the',\n",
       " 'case',\n",
       " 'during',\n",
       " 'British',\n",
       " 'rule',\n",
       " '.']"
      ]
     },
     "execution_count": 5,
     "metadata": {},
     "output_type": "execute_result"
    }
   ],
   "source": [
    "word_tokenize(corpus)"
   ]
  },
  {
   "cell_type": "code",
   "execution_count": 46,
   "id": "eef6fc98-573f-42bc-a860-3a19f55ee94f",
   "metadata": {},
   "outputs": [],
   "source": [
    "words=[]\n",
    "for word in word_tokenize(corpus):\n",
    "    if (word.lower() not in stopwords.words('english')) and len(word) >= 2:\n",
    "        words.append(word.lower())"
   ]
  },
  {
   "cell_type": "code",
   "execution_count": 32,
   "id": "0bb7a3a0-0d09-49b0-8bc0-62ffa93eb5e7",
   "metadata": {},
   "outputs": [
    {
     "data": {
      "text/plain": [
       "['a',\n",
       " 'about',\n",
       " 'above',\n",
       " 'after',\n",
       " 'again',\n",
       " 'against',\n",
       " 'ain',\n",
       " 'all',\n",
       " 'am',\n",
       " 'an',\n",
       " 'and',\n",
       " 'any',\n",
       " 'are',\n",
       " 'aren',\n",
       " \"aren't\",\n",
       " 'as',\n",
       " 'at',\n",
       " 'be',\n",
       " 'because',\n",
       " 'been',\n",
       " 'before',\n",
       " 'being',\n",
       " 'below',\n",
       " 'between',\n",
       " 'both',\n",
       " 'but',\n",
       " 'by',\n",
       " 'can',\n",
       " 'couldn',\n",
       " \"couldn't\",\n",
       " 'd',\n",
       " 'did',\n",
       " 'didn',\n",
       " \"didn't\",\n",
       " 'do',\n",
       " 'does',\n",
       " 'doesn',\n",
       " \"doesn't\",\n",
       " 'doing',\n",
       " 'don',\n",
       " \"don't\",\n",
       " 'down',\n",
       " 'during',\n",
       " 'each',\n",
       " 'few',\n",
       " 'for',\n",
       " 'from',\n",
       " 'further',\n",
       " 'had',\n",
       " 'hadn',\n",
       " \"hadn't\",\n",
       " 'has',\n",
       " 'hasn',\n",
       " \"hasn't\",\n",
       " 'have',\n",
       " 'haven',\n",
       " \"haven't\",\n",
       " 'having',\n",
       " 'he',\n",
       " \"he'd\",\n",
       " \"he'll\",\n",
       " 'her',\n",
       " 'here',\n",
       " 'hers',\n",
       " 'herself',\n",
       " \"he's\",\n",
       " 'him',\n",
       " 'himself',\n",
       " 'his',\n",
       " 'how',\n",
       " 'i',\n",
       " \"i'd\",\n",
       " 'if',\n",
       " \"i'll\",\n",
       " \"i'm\",\n",
       " 'in',\n",
       " 'into',\n",
       " 'is',\n",
       " 'isn',\n",
       " \"isn't\",\n",
       " 'it',\n",
       " \"it'd\",\n",
       " \"it'll\",\n",
       " \"it's\",\n",
       " 'its',\n",
       " 'itself',\n",
       " \"i've\",\n",
       " 'just',\n",
       " 'll',\n",
       " 'm',\n",
       " 'ma',\n",
       " 'me',\n",
       " 'mightn',\n",
       " \"mightn't\",\n",
       " 'more',\n",
       " 'most',\n",
       " 'mustn',\n",
       " \"mustn't\",\n",
       " 'my',\n",
       " 'myself',\n",
       " 'needn',\n",
       " \"needn't\",\n",
       " 'no',\n",
       " 'nor',\n",
       " 'not',\n",
       " 'now',\n",
       " 'o',\n",
       " 'of',\n",
       " 'off',\n",
       " 'on',\n",
       " 'once',\n",
       " 'only',\n",
       " 'or',\n",
       " 'other',\n",
       " 'our',\n",
       " 'ours',\n",
       " 'ourselves',\n",
       " 'out',\n",
       " 'over',\n",
       " 'own',\n",
       " 're',\n",
       " 's',\n",
       " 'same',\n",
       " 'shan',\n",
       " \"shan't\",\n",
       " 'she',\n",
       " \"she'd\",\n",
       " \"she'll\",\n",
       " \"she's\",\n",
       " 'should',\n",
       " 'shouldn',\n",
       " \"shouldn't\",\n",
       " \"should've\",\n",
       " 'so',\n",
       " 'some',\n",
       " 'such',\n",
       " 't',\n",
       " 'than',\n",
       " 'that',\n",
       " \"that'll\",\n",
       " 'the',\n",
       " 'their',\n",
       " 'theirs',\n",
       " 'them',\n",
       " 'themselves',\n",
       " 'then',\n",
       " 'there',\n",
       " 'these',\n",
       " 'they',\n",
       " \"they'd\",\n",
       " \"they'll\",\n",
       " \"they're\",\n",
       " \"they've\",\n",
       " 'this',\n",
       " 'those',\n",
       " 'through',\n",
       " 'to',\n",
       " 'too',\n",
       " 'under',\n",
       " 'until',\n",
       " 'up',\n",
       " 've',\n",
       " 'very',\n",
       " 'was',\n",
       " 'wasn',\n",
       " \"wasn't\",\n",
       " 'we',\n",
       " \"we'd\",\n",
       " \"we'll\",\n",
       " \"we're\",\n",
       " 'were',\n",
       " 'weren',\n",
       " \"weren't\",\n",
       " \"we've\",\n",
       " 'what',\n",
       " 'when',\n",
       " 'where',\n",
       " 'which',\n",
       " 'while',\n",
       " 'who',\n",
       " 'whom',\n",
       " 'why',\n",
       " 'will',\n",
       " 'with',\n",
       " 'won',\n",
       " \"won't\",\n",
       " 'wouldn',\n",
       " \"wouldn't\",\n",
       " 'y',\n",
       " 'you',\n",
       " \"you'd\",\n",
       " \"you'll\",\n",
       " 'your',\n",
       " \"you're\",\n",
       " 'yours',\n",
       " 'yourself',\n",
       " 'yourselves',\n",
       " \"you've\"]"
      ]
     },
     "execution_count": 32,
     "metadata": {},
     "output_type": "execute_result"
    }
   ],
   "source": [
    "stopwords.words('english')"
   ]
  },
  {
   "cell_type": "code",
   "execution_count": 48,
   "id": "da20bb46-eab7-42a0-8a7b-6884cb15ca9f",
   "metadata": {},
   "outputs": [
    {
     "data": {
      "text/plain": [
       "25"
      ]
     },
     "execution_count": 48,
     "metadata": {},
     "output_type": "execute_result"
    }
   ],
   "source": [
    "len(words)"
   ]
  },
  {
   "cell_type": "code",
   "execution_count": 50,
   "id": "013ca398-e5fe-4851-bd3a-67b442284406",
   "metadata": {},
   "outputs": [
    {
     "data": {
      "text/plain": [
       "24"
      ]
     },
     "execution_count": 50,
     "metadata": {},
     "output_type": "execute_result"
    }
   ],
   "source": [
    "len(set(words))"
   ]
  },
  {
   "cell_type": "code",
   "execution_count": 52,
   "id": "5c05e858-ea6d-4e05-bdee-74a31126499b",
   "metadata": {},
   "outputs": [
    {
     "data": {
      "text/plain": [
       "54"
      ]
     },
     "execution_count": 52,
     "metadata": {},
     "output_type": "execute_result"
    }
   ],
   "source": [
    "len(word_tokenize(corpus))"
   ]
  },
  {
   "cell_type": "code",
   "execution_count": 58,
   "id": "5ef3798e-7b0f-48bd-836a-744c3be41147",
   "metadata": {},
   "outputs": [],
   "source": [
    "vocab=list(set(words))"
   ]
  },
  {
   "cell_type": "code",
   "execution_count": 60,
   "id": "e7ae5db9-9377-4b58-a666-08ccfeed1d38",
   "metadata": {},
   "outputs": [
    {
     "data": {
      "text/plain": [
       "['1950',\n",
       " 'meaning',\n",
       " 'republic',\n",
       " '26',\n",
       " 'rule',\n",
       " 'wikipedia',\n",
       " 'ccording',\n",
       " 'case',\n",
       " 'monarch',\n",
       " 'yes',\n",
       " 'british',\n",
       " 'head',\n",
       " 'january',\n",
       " 'india',\n",
       " 'state',\n",
       " 'country',\n",
       " 'president',\n",
       " 'democratic',\n",
       " 'coming',\n",
       " 'officially',\n",
       " 'effect',\n",
       " 'sovereign',\n",
       " 'establishing',\n",
       " 'constitution']"
      ]
     },
     "execution_count": 60,
     "metadata": {},
     "output_type": "execute_result"
    }
   ],
   "source": [
    "vocab"
   ]
  },
  {
   "cell_type": "code",
   "execution_count": 68,
   "id": "bf5d9177-7a71-4771-a162-3a10c795272c",
   "metadata": {},
   "outputs": [
    {
     "name": "stdout",
     "output_type": "stream",
     "text": [
      "ccording to Wikipedia, yes, India is a republic, with its constitution coming into effect on January 26, 1950, officially establishing the country as a sovereign democratic republic; meaning the head of state is a President, not a monarch, as was the case during British rule.\n"
     ]
    }
   ],
   "source": [
    "for sent in sent_tokenize(corpus):\n",
    "    print(sent)"
   ]
  },
  {
   "cell_type": "code",
   "execution_count": null,
   "id": "3731115b-1ffc-493f-a0ba-a99177810223",
   "metadata": {},
   "outputs": [],
   "source": []
  }
 ],
 "metadata": {
  "kernelspec": {
   "display_name": "Python 3 (ipykernel)",
   "language": "python",
   "name": "python3"
  },
  "language_info": {
   "codemirror_mode": {
    "name": "ipython",
    "version": 3
   },
   "file_extension": ".py",
   "mimetype": "text/x-python",
   "name": "python",
   "nbconvert_exporter": "python",
   "pygments_lexer": "ipython3",
   "version": "3.12.4"
  }
 },
 "nbformat": 4,
 "nbformat_minor": 5
}
