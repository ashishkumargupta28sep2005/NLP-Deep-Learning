{
 "cells": [
  {
   "cell_type": "code",
   "execution_count": 1,
   "id": "bbded7a8-0a36-443b-81f6-b3dfc29896f9",
   "metadata": {},
   "outputs": [],
   "source": [
    "\n",
    "txt = 'hello, HOW are you?'"
   ]
  },
  {
   "cell_type": "markdown",
   "id": "ebd509c5-2eba-4cc4-a570-7c2410e968ac",
   "metadata": {},
   "source": [
    "### 1. Uppercase Function"
   ]
  },
  {
   "cell_type": "code",
   "execution_count": 4,
   "id": "3bec5db2-8dd1-4a26-a51a-3072c8169d60",
   "metadata": {},
   "outputs": [
    {
     "data": {
      "text/plain": [
       "'HELLO, HOW ARE YOU?'"
      ]
     },
     "execution_count": 4,
     "metadata": {},
     "output_type": "execute_result"
    }
   ],
   "source": [
    "def upper(text):\n",
    "    \n",
    "    string = ''\n",
    "\n",
    "    for char in text:\n",
    "        if ( ord(char) >= 97 and ord(char) <= 122 ):        # 97 - 122  ( Lowercase )\n",
    "            string += chr(ord(char) - 32)                   # Subtract 32 to make it Uppercase\n",
    "        else:\n",
    "            string += char\n",
    "            \n",
    "    return string\n",
    "\n",
    "upper(txt)"
   ]
  },
  {
   "cell_type": "markdown",
   "id": "b0e14359-52fd-4d6d-8b8f-afa57016dc17",
   "metadata": {},
   "source": [
    "### 2. Lowercase Function"
   ]
  },
  {
   "cell_type": "code",
   "execution_count": 7,
   "id": "2ce3ea8d-017e-4f47-a600-30a74050e810",
   "metadata": {},
   "outputs": [
    {
     "data": {
      "text/plain": [
       "'hello, how are you?'"
      ]
     },
     "execution_count": 7,
     "metadata": {},
     "output_type": "execute_result"
    }
   ],
   "source": [
    "def lower(text):\n",
    "    \n",
    "    string = ''\n",
    "\n",
    "    for char in text:\n",
    "        if ( ord(char) >= 65 and ord(char) <= 90 ):        # 65 - 90  ( Uppercase )\n",
    "            string += chr(ord(char) + 32)                  # Add 32 to make it Lowercase\n",
    "        else:\n",
    "            string += char\n",
    "            \n",
    "    return string\n",
    "\n",
    "txt.lower()"
   ]
  },
  {
   "cell_type": "code",
   "execution_count": null,
   "id": "6c3d9216-6b74-4865-84fc-bbfe167a52b0",
   "metadata": {},
   "outputs": [],
   "source": []
  }
 ],
 "metadata": {
  "kernelspec": {
   "display_name": "Python 3 (ipykernel)",
   "language": "python",
   "name": "python3"
  },
  "language_info": {
   "codemirror_mode": {
    "name": "ipython",
    "version": 3
   },
   "file_extension": ".py",
   "mimetype": "text/x-python",
   "name": "python",
   "nbconvert_exporter": "python",
   "pygments_lexer": "ipython3",
   "version": "3.12.4"
  }
 },
 "nbformat": 4,
 "nbformat_minor": 5
}
