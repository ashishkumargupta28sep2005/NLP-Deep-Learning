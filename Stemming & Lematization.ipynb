{
 "cells": [
  {
   "cell_type": "code",
   "execution_count": 3,
   "id": "a34221d4-413b-4f5b-9649-135ca8c6d43a",
   "metadata": {},
   "outputs": [
    {
     "name": "stderr",
     "output_type": "stream",
     "text": [
      "[nltk_data] Downloading package wordnet to\n",
      "[nltk_data]     C:\\Users\\hp\\AppData\\Roaming\\nltk_data...\n",
      "[nltk_data]   Package wordnet is already up-to-date!\n",
      "[nltk_data] Downloading package omw-1.4 to\n",
      "[nltk_data]     C:\\Users\\hp\\AppData\\Roaming\\nltk_data...\n",
      "[nltk_data]   Package omw-1.4 is already up-to-date!\n"
     ]
    }
   ],
   "source": [
    "import nltk\n",
    "\n",
    "nltk.download('wordnet')\n",
    "nltk.download('omw-1.4')\n",
    "\n",
    "from nltk.stem import WordNetLemmatizer,PorterStemmer"
   ]
  },
  {
   "cell_type": "code",
   "execution_count": 8,
   "id": "be194172-9603-48e3-8ebc-f4591f8f2ab7",
   "metadata": {},
   "outputs": [],
   "source": [
    "stem= PorterStemmer()\n",
    "lam=WordNetLemmatizer()"
   ]
  },
  {
   "cell_type": "markdown",
   "id": "49c42eb2-b71d-4b01-8ae9-0f7358328121",
   "metadata": {},
   "source": [
    "## Lemmatization"
   ]
  },
  {
   "cell_type": "code",
   "execution_count": 26,
   "id": "65cfced2-037b-4c8e-98bb-e1caa8842074",
   "metadata": {},
   "outputs": [
    {
     "name": "stdout",
     "output_type": "stream",
     "text": [
      "change\n",
      "changer\n",
      "change\n"
     ]
    }
   ],
   "source": [
    "print(lam.lemmatize('change'))\n",
    "print(lam.lemmatize('changer'))\n",
    "print(lam.lemmatize('changes')) # remove s"
   ]
  },
  {
   "cell_type": "code",
   "execution_count": 50,
   "id": "96dc68c2-7712-49f9-ad88-6422598643f8",
   "metadata": {},
   "outputs": [
    {
     "name": "stdout",
     "output_type": "stream",
     "text": [
      "chang\n",
      "chang\n",
      "chang\n"
     ]
    }
   ],
   "source": [
    "print(stem.stem('changed'))\n",
    "print(stem.stem('changes')) #remove es\n",
    "print(stem.stem('changed')) #remove ed"
   ]
  },
  {
   "cell_type": "code",
   "execution_count": null,
   "id": "925d30fb-f80a-4a95-8737-6c3f3801af16",
   "metadata": {},
   "outputs": [],
   "source": []
  },
  {
   "cell_type": "code",
   "execution_count": null,
   "id": "fc607630-c9c4-43b9-8031-bc733b60e9cd",
   "metadata": {},
   "outputs": [],
   "source": []
  },
  {
   "cell_type": "code",
   "execution_count": null,
   "id": "de014b68-e798-4adc-b219-7c5aee2b1381",
   "metadata": {},
   "outputs": [],
   "source": []
  },
  {
   "cell_type": "code",
   "execution_count": null,
   "id": "afc65f98-9896-41d3-9749-3f8521cbf349",
   "metadata": {},
   "outputs": [],
   "source": []
  }
 ],
 "metadata": {
  "kernelspec": {
   "display_name": "Python 3 (ipykernel)",
   "language": "python",
   "name": "python3"
  },
  "language_info": {
   "codemirror_mode": {
    "name": "ipython",
    "version": 3
   },
   "file_extension": ".py",
   "mimetype": "text/x-python",
   "name": "python",
   "nbconvert_exporter": "python",
   "pygments_lexer": "ipython3",
   "version": "3.12.4"
  }
 },
 "nbformat": 4,
 "nbformat_minor": 5
}
