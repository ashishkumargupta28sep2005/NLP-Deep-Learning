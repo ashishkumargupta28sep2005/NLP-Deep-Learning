{
 "cells": [
  {
   "cell_type": "code",
   "execution_count": 1,
   "id": "10c91c38-f674-48c1-86e8-807418a26e52",
   "metadata": {},
   "outputs": [],
   "source": [
    "def upper(text):\n",
    "    string = ''\n",
    "    for char in text:\n",
    "        if ( ord(char) >= 97 and ord(char) <= 122 ):\n",
    "            string += chr(ord(char) - 32)           \n",
    "        else:\n",
    "            string += char        \n",
    "    return string\n",
    "\n",
    "def lower(text):  \n",
    "    string = ''\n",
    "    for char in text:\n",
    "        if ( ord(char) >= 65 and ord(char) <= 90 ):\n",
    "            string += chr(ord(char) + 32)          \n",
    "        else:\n",
    "            string += char\n",
    "    return string"
   ]
  },
  {
   "cell_type": "code",
   "execution_count": 3,
   "id": "66e2841e-806c-45c6-8780-076d019ed410",
   "metadata": {},
   "outputs": [],
   "source": [
    "def title(text):\n",
    "\n",
    "    output = []\n",
    "    for word in text.split(' '):\n",
    "        output.append(upper(word[0]) + lower(word[1:]))\n",
    "    \n",
    "    return ' '.join(output)"
   ]
  },
  {
   "cell_type": "code",
   "execution_count": 5,
   "id": "5952ba3e-cfb4-4974-ba65-b10bfc9a9e91",
   "metadata": {},
   "outputs": [
    {
     "data": {
      "text/plain": [
       "'Ashish Gupta'"
      ]
     },
     "execution_count": 5,
     "metadata": {},
     "output_type": "execute_result"
    }
   ],
   "source": [
    "title('ashish gupta')"
   ]
  },
  {
   "cell_type": "code",
   "execution_count": null,
   "id": "fefa822e-96c1-4797-b153-89231a4de918",
   "metadata": {},
   "outputs": [],
   "source": []
  }
 ],
 "metadata": {
  "kernelspec": {
   "display_name": "Python 3 (ipykernel)",
   "language": "python",
   "name": "python3"
  },
  "language_info": {
   "codemirror_mode": {
    "name": "ipython",
    "version": 3
   },
   "file_extension": ".py",
   "mimetype": "text/x-python",
   "name": "python",
   "nbconvert_exporter": "python",
   "pygments_lexer": "ipython3",
   "version": "3.12.4"
  }
 },
 "nbformat": 4,
 "nbformat_minor": 5
}
