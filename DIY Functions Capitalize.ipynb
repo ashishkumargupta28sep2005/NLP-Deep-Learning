{
 "cells": [
  {
   "cell_type": "code",
   "execution_count": 15,
   "id": "97c8829a-b749-4f44-8c5f-000d14db7306",
   "metadata": {},
   "outputs": [
    {
     "data": {
      "text/plain": [
       "'Hello, how are you?'"
      ]
     },
     "execution_count": 15,
     "metadata": {},
     "output_type": "execute_result"
    }
   ],
   "source": [
    "'hello, how are YOU?'.capitalize()"
   ]
  },
  {
   "cell_type": "code",
   "execution_count": 3,
   "id": "5d2120e5-aadc-4a25-8258-43f7aeb806d1",
   "metadata": {},
   "outputs": [],
   "source": [
    "def capitalize(text):\n",
    "    \n",
    "    if (len(text) != 0):\n",
    "        return text[0].upper() + text[1:].lower()\n",
    "    else:\n",
    "        return None"
   ]
  },
  {
   "cell_type": "code",
   "execution_count": 5,
   "id": "873cd0ef-0e9b-4270-8b32-167e34b64f84",
   "metadata": {},
   "outputs": [
    {
     "data": {
      "text/plain": [
       "'Hello, how are you?'"
      ]
     },
     "execution_count": 5,
     "metadata": {},
     "output_type": "execute_result"
    }
   ],
   "source": [
    "capitalize('Hello, how are YOU?')"
   ]
  }
 ],
 "metadata": {
  "kernelspec": {
   "display_name": "Python 3 (ipykernel)",
   "language": "python",
   "name": "python3"
  },
  "language_info": {
   "codemirror_mode": {
    "name": "ipython",
    "version": 3
   },
   "file_extension": ".py",
   "mimetype": "text/x-python",
   "name": "python",
   "nbconvert_exporter": "python",
   "pygments_lexer": "ipython3",
   "version": "3.12.4"
  }
 },
 "nbformat": 4,
 "nbformat_minor": 5
}
